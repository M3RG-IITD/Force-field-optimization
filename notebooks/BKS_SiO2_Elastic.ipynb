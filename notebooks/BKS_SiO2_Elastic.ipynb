{
  "cells": [
    {
      "cell_type": "code",
      "execution_count": 1,
      "metadata": {
        "cellView": "form",
        "colab": {
          "base_uri": "https://localhost:8080/"
        },
        "id": "06kOESfmBDuF",
        "outputId": "dbeddab0-b977-4670-fac6-c4dc6ecd1be3"
      },
      "outputs": [
        {
          "name": "stdout",
          "output_type": "stream",
          "text": [
            "\u001b[?25l   \u001b[90m━━━━━━━━━━━━━━━━━━━━━━━━━━━━━━━━━━━━━━━━\u001b[0m \u001b[32m0.0/16.2 MB\u001b[0m \u001b[31m?\u001b[0m eta \u001b[36m-:--:--\u001b[0m\r\u001b[2K   \u001b[91m━━━━━━━━━━━━\u001b[0m\u001b[91m╸\u001b[0m\u001b[90m━━━━━━━━━━━━━━━━━━━━━━━━━━━\u001b[0m \u001b[32m5.1/16.2 MB\u001b[0m \u001b[31m154.8 MB/s\u001b[0m eta \u001b[36m0:00:01\u001b[0m\r\u001b[2K   \u001b[91m━━━━━━━━━━━━━━━━━━━━━━━━━━\u001b[0m\u001b[90m╺\u001b[0m\u001b[90m━━━━━━━━━━━━━\u001b[0m \u001b[32m10.6/16.2 MB\u001b[0m \u001b[31m157.2 MB/s\u001b[0m eta \u001b[36m0:00:01\u001b[0m\r\u001b[2K   \u001b[91m━━━━━━━━━━━━━━━━━━━━━━━━━━━━━━━━━━━━━━━\u001b[0m\u001b[91m╸\u001b[0m \u001b[32m16.2/16.2 MB\u001b[0m \u001b[31m168.0 MB/s\u001b[0m eta \u001b[36m0:00:01\u001b[0m\r\u001b[2K   \u001b[91m━━━━━━━━━━━━━━━━━━━━━━━━━━━━━━━━━━━━━━━\u001b[0m\u001b[91m╸\u001b[0m \u001b[32m16.2/16.2 MB\u001b[0m \u001b[31m168.0 MB/s\u001b[0m eta \u001b[36m0:00:01\u001b[0m\r\u001b[2K   \u001b[90m━━━━━━━━━━━━━━━━━━━━━━━━━━━━━━━━━━━━━━━━\u001b[0m \u001b[32m16.2/16.2 MB\u001b[0m \u001b[31m86.7 MB/s\u001b[0m eta \u001b[36m0:00:00\u001b[0m\n",
            "\u001b[?25h"
          ]
        }
      ],
      "source": [
        "#@title Imports and utility code\n",
        "!pip install -q uv\n",
        "!uv pip install -q --system git+https://www.github.com/google/jax-md\n",
        "\n",
        "import numpy as onp\n",
        "import jax.numpy as np\n",
        "import pandas as pd\n",
        "from jax import random\n",
        "from jax import jit, grad, jacfwd\n",
        "from functools import wraps, partial\n",
        "from jax import lax\n",
        "from jax import hessian\n",
        "from jax_md import space, smap, energy, minimize, quantity, simulate, util, partition\n",
        "from jax_md import elasticity\n",
        "from jax_md.util import f64 # Call the function\n",
        "from jax import config\n",
        "from jax.scipy.special import erfc\n",
        "config.update('jax_enable_x64', True)\n",
        "from typing import Tuple, Callable\n",
        "import matplotlib.pyplot as plt\n",
        "from matplotlib.ticker import MultipleLocator\n",
        "from jax_md.colab_tools import renderer\n",
        "from scipy.optimize import minimize as scipy_min\n",
        "import html\n",
        "from IPython.display import HTML, display\n",
        "Array = util.Array\n",
        "DisplacementOrMetricFn = space.DisplacementOrMetricFn\n",
        "\n",
        "def ProgressIter(iter_fun, iter_len=0):\n",
        "  if not iter_len:\n",
        "    iter_len = len(iter_fun)\n",
        "  out = display(progress(0, iter_len), display_id=True)\n",
        "  for i, it in enumerate(iter_fun):\n",
        "    yield it\n",
        "    out.update(progress(i + 1, iter_len))\n",
        "\n",
        "def progress(value, max):\n",
        "    return HTML(\"\"\"\n",
        "        <progress\n",
        "            value='{value}'\n",
        "            max='{max}',\n",
        "            style='width: 45%'\n",
        "        >\n",
        "            {value}\n",
        "        </progress>\n",
        "    \"\"\".format(value=value, max=max))\n",
        "\n",
        "def lattice(R_unit_cell, copies, lattice_vectors):\n",
        "  \"\"\"Repeats a unit cell along lattice vectors. \"\"\"\n",
        "  lattice_vectors = onp.array(lattice_vectors, f64)\n",
        "\n",
        "  N, d = R_unit_cell.shape\n",
        "  if isinstance(copies, int):\n",
        "    copies = (copies,) * d\n",
        "\n",
        "  if lattice_vectors.ndim == 0 or lattice_vectors.ndim == 1:\n",
        "    cartesian = True\n",
        "    L = onp.eye(d) * lattice_vectors[onp.newaxis, ...]\n",
        "  elif lattice_vectors.ndim == 2:\n",
        "    assert lattice_vectors.shape[0] == lattice_vectors.shape[1]\n",
        "    cartesian = False\n",
        "    L = onp.eye(d) / onp.array(copies)[onp.newaxis, ...]\n",
        "    R_unit_cell /= onp.array(copies)[onp.newaxis, ...]\n",
        "  else:\n",
        "    raise ValueError()\n",
        "\n",
        "  Rs = []\n",
        "  for indices in onp.ndindex(copies):\n",
        "    dR = 0.\n",
        "    for idx, i in enumerate(indices):\n",
        "      dR += i * L[idx]\n",
        "    R = R_unit_cell + dR[onp.newaxis, :]\n",
        "    Rs += [R]\n",
        "\n",
        "  return onp.concatenate(Rs)\n",
        "\n",
        "def density_sio2(n_atoms,vol):\n",
        "  n_si = int(n_atoms/3)\n",
        "  n_o  = int(n_atoms - n_si)\n",
        "  m_si = 28.0855\n",
        "  m_o  = 15.9994\n",
        "  density = ((m_si*n_si) + (m_o*n_o))/(vol*(10**(-24))*(6.02214076*(10**(23))))\n",
        "  return density\n",
        "\n",
        "def step_fn(i, state_and_nbrs):\n",
        "  state, nbrs = state_and_nbrs\n",
        "  nbrs = neighbor_fn(state.position, nbrs)\n",
        "  state = apply(state, neighbor=nbrs)\n",
        "  return state, nbrs"
      ]
    },
    {
      "cell_type": "markdown",
      "metadata": {
        "id": "qeJBXcAcOmdK"
      },
      "source": [
        "### Define the system"
      ]
    },
    {
      "cell_type": "code",
      "execution_count": 2,
      "metadata": {
        "colab": {
          "base_uri": "https://localhost:8080/"
        },
        "id": "9zFUVCcfA9UL",
        "outputId": "8af76160-2793-433d-852f-599d1d6ce9b1"
      },
      "outputs": [
        {
          "name": "stdout",
          "output_type": "stream",
          "text": [
            "(768, 3) [[20.2252    0.        0.      ]\n",
            " [ 0.       20.2252    0.      ]\n",
            " [ 0.        0.       29.495804]]\n"
          ]
        }
      ],
      "source": [
        "N_muliply = 4\n",
        "\n",
        "silica_text = \"\"\"0.000000 0.000000 0.500000 Si\n",
        "0.000000 0.500000 0.750000 Si\n",
        "0.500000 0.500000 0.000000 Si\n",
        "0.500000 0.000000 0.250000 Si\n",
        "0.087966 0.750000 0.625000 O\n",
        "0.750000 0.912034 0.375000 O\n",
        "0.912034 0.250000 0.625000 O\n",
        "0.250000 0.087966 0.375000 O\n",
        "0.250000 0.412034 0.875000 O\n",
        "0.750000 0.587966 0.875000 O\n",
        "0.587966 0.250000 0.125000 O\n",
        "0.412034 0.750000 0.125000 O\"\"\"\n",
        "\n",
        "rows = silica_text.split('\\n')\n",
        "rows = np.array([list(map(float,r.split(' ')[:3])) for r in rows])\n",
        "\n",
        "latvec = np.array([[5.056300, 0.000000, 0.000000],\n",
        "                    [0.00000, 5.056300, 0.00000],\n",
        "                    [0.00000, 0.0000, 7.373951]])\n",
        "R = lattice(rows, N_muliply, latvec)\n",
        "latvec *= N_muliply\n",
        "species = np.array([0,0,0,0,1,1,1,1,1,1,1,1]*N_muliply*N_muliply*N_muliply)\n",
        "R = np.array(R, dtype=f64)\n",
        "print(R.shape, latvec)"
      ]
    },
    {
      "cell_type": "code",
      "execution_count": 3,
      "metadata": {
        "id": "KzuRQbaaaNCb"
      },
      "outputs": [],
      "source": [
        "# BKS Potential Parameters.\n",
        "# Coefficients given in kcal/mol.\n",
        "\n",
        "CHARGE_OXYGEN = -0.977476019\n",
        "CHARGE_SILICON = 1.954952037\n",
        "\n",
        "BKS_SILICA_DICT = {\n",
        "    'Q_sq' : [[CHARGE_SILICON**2, CHARGE_SILICON*CHARGE_OXYGEN],\n",
        "              [CHARGE_SILICON*CHARGE_OXYGEN, CHARGE_OXYGEN**2]],\n",
        "    'exp_coeff' : [[0, 471671.1243 ],\n",
        "                   [471671.1243, 23138.64826]],\n",
        "    'exp_decay' : [[1, 0.19173537],\n",
        "                   [0.19173537, 0.356855265]],\n",
        "    'attractive_coeff' : [[0, -2156.074422],\n",
        "                          [-2156.074422, -1879.223108]],\n",
        "    'repulsive_coeff' : [[78940848.06, 668.7557239],\n",
        "                         [668.7557239, 2605.841269]],\n",
        "    'coulomb_alpha' : 0.25,\n",
        "}"
      ]
    },
    {
      "cell_type": "code",
      "execution_count": 4,
      "metadata": {
        "colab": {
          "base_uri": "https://localhost:8080/"
        },
        "id": "oYfBjsdGBBf_",
        "outputId": "80e63472-1839-46d4-965e-982271eab6ed"
      },
      "outputs": [
        {
          "name": "stderr",
          "output_type": "stream",
          "text": [
            "/usr/local/lib/python3.11/dist-packages/jax/_src/ops/scatter.py:92: FutureWarning: scatter inputs have incompatible types: cannot safely cast value from dtype=int64 to dtype=int32 with jax_numpy_dtype_promotion='standard'. In future JAX releases this will result in an error.\n",
            "  warnings.warn(\n"
          ]
        },
        {
          "name": "stdout",
          "output_type": "stream",
          "text": [
            "-231841.69128711114 kcal/mol -10052.65573420914 eV\n"
          ]
        }
      ],
      "source": [
        "displacement, shift = space.periodic_general(latvec)\n",
        "dist_fun = space.metric(displacement)\n",
        "neighbor_fn, energy_fn = energy.bks_silica_neighbor_list(dist_fun,box_size=latvec,species=species, dr_threshold=2.0, **BKS_SILICA_DICT)\n",
        "nbrs = neighbor_fn.allocate(R, extra_capacity=8)\n",
        "energy_fn = jit(energy_fn)\n",
        "kcal_to_eV = 0.04336\n",
        "eVA3_to_GPa = 160.2176621\n",
        "pot_e = energy_fn(R, nbrs)\n",
        "pot_e_eV = kcal_to_eV * pot_e\n",
        "print(f\"{pot_e} kcal/mol {pot_e_eV} eV\")"
      ]
    },
    {
      "cell_type": "code",
      "execution_count": 5,
      "metadata": {
        "colab": {
          "base_uri": "https://localhost:8080/"
        },
        "id": "dOtznlOIvBa3",
        "outputId": "7a10975a-363d-4c73-9967-2b93cf3911fb"
      },
      "outputs": [
        {
          "name": "stdout",
          "output_type": "stream",
          "text": [
            "E = -10052.65573420914 (eV) , Max force = 5.296145968683154 eV/A\n",
            "E = -10052.851378085383 (eV) , Max force = 5.033551339005807 eV/A\n",
            "E = -10053.500944119363 (eV) , Max force = 4.059175626751675 eV/A\n",
            "E = -10054.561712286028 (eV) , Max force = 1.629887795112925 eV/A\n",
            "E = -10054.777561581843 (eV) , Max force = 0.13390321415624729 eV/A\n",
            "E = -10054.777790384078 (eV) , Max force = 0.12353016170113838 eV/A\n",
            "E = -10054.778404942112 (eV) , Max force = 0.08989454800263785 eV/A\n",
            "E = -10054.779060433615 (eV) , Max force = 0.02025676085569431 eV/A\n",
            "E = -10054.779085240538 (eV) , Max force = 0.010934902430477416 eV/A\n",
            "E = -10054.779087194327 (eV) , Max force = 0.009830666331715244 eV/A\n",
            "E = -10054.779091936904 (eV) , Max force = 0.006402091740557428 eV/A\n",
            "E = -10054.779095419177 (eV) , Max force = 0.0003577605264050297 eV/A\n",
            "E = -10054.779095359814 (eV) , Max force = 0.0009079230552012786 eV/A\n",
            "E = -10054.779095376858 (eV) , Max force = 0.000790177157289582 eV/A\n",
            "E = -10054.779095413109 (eV) , Max force = 0.0004462162690374242 eV/A\n",
            "E = -10054.779095429636 (eV) , Max force = 7.19927110868179e-05 eV/A\n",
            "E = -10054.779095429674 (eV) , Max force = 6.90383600722189e-05 eV/A\n",
            "E = -10054.779095429793 (eV) , Max force = 5.822019867837414e-05 eV/A\n",
            "E = -10054.77909543 (eV) , Max force = 3.0636317482210487e-05 eV/A\n",
            "E = -10054.779095430082 (eV) , Max force = 1.7582839909057881e-06 eV/A\n"
          ]
        }
      ],
      "source": [
        "fire_init, fire_apply = minimize.fire_descent(energy_fn, shift, dt_max=0.01, dt_start=0.005)\n",
        "fire_apply = jit(fire_apply)\n",
        "fire_state = fire_init(R, neighbor=nbrs)\n",
        "\n",
        "for k in range(100):\n",
        "  if k % 5 == 0:\n",
        "    max_force = np.linalg.norm(fire_state.force)\n",
        "    pot_e = energy_fn(fire_state.position, nbrs)\n",
        "    print(f\"E = {pot_e * kcal_to_eV} (eV) , Max force = {max_force * kcal_to_eV} eV/A\")\n",
        "  fire_state = fire_apply(fire_state, neighbor=nbrs)\n",
        "  nbrs = neighbor_fn.update(fire_state.position, nbrs)\n",
        "\n",
        "\n",
        "R_final = fire_state.position\n",
        "nbrs_final = neighbor_fn.allocate(R_final)"
      ]
    },
    {
      "cell_type": "code",
      "execution_count": 6,
      "metadata": {
        "colab": {
          "base_uri": "https://localhost:8080/"
        },
        "id": "7P8BCn_c0M6t",
        "outputId": "3729c2af-6e48-45c8-eb55-6cb61ee98a34"
      },
      "outputs": [
        {
          "name": "stdout",
          "output_type": "stream",
          "text": [
            "Final energy = -10054.779095430082 (eV)\n",
            "Final max force = 1.6949668107390407e-06 (eV/A)\n",
            "Final pressure = [[ 2.62110980e+00  9.88418599e-15 -2.00721389e-16]\n",
            " [ 1.00805605e-14  2.62110980e+00  9.68372030e-15]\n",
            " [ 3.27930167e-16  9.34211039e-15  3.09169791e+00]] (GPa)\n"
          ]
        }
      ],
      "source": [
        "print(f\"Final energy = {energy_fn(R_final, nbrs_final) * kcal_to_eV} (eV)\")\n",
        "print(f\"Final max force = {np.linalg.norm(grad(energy_fn)(R_final, nbrs_final)) * kcal_to_eV} (eV/A)\")\n",
        "print(f\"Final pressure = {quantity.stress(energy_fn, position=R_final, box=latvec, neighbor=nbrs_final) * kcal_to_eV * eVA3_to_GPa} (GPa)\")"
      ]
    },
    {
      "cell_type": "code",
      "execution_count": 7,
      "metadata": {
        "id": "dQ2SR131Cb12"
      },
      "outputs": [],
      "source": [
        "emt_fn = jit(elasticity.athermal_moduli(energy_fn, check_convergence=True))\n",
        "C_org, converged = emt_fn(R_final,latvec,neighbor=nbrs_final)"
      ]
    },
    {
      "cell_type": "code",
      "execution_count": 8,
      "metadata": {
        "colab": {
          "base_uri": "https://localhost:8080/"
        },
        "id": "cKur6rvCteHZ",
        "outputId": "e09e6209-5bda-4a62-9fd2-77f7cc3bc5d0"
      },
      "outputs": [
        {
          "name": "stdout",
          "output_type": "stream",
          "text": [
            "True\n",
            "Experimental =\n",
            "[[ 86.8   7.   19.1   0.    0.    0. ]\n",
            " [  7.   86.8  19.1   0.    0.    0. ]\n",
            " [ 19.1  19.1 105.8   0.    0.    0. ]\n",
            " [  0.    0.    0.  116.4   0.    0. ]\n",
            " [  0.    0.    0.    0.  116.4   0. ]\n",
            " [  0.    0.    0.    0.    0.   79.8]]\n",
            "Original =\n",
            "[[ 63.3545 -39.0365  12.4639   0.      -0.       0.    ]\n",
            " [-39.0365  63.3545  12.4639  -0.       0.       0.    ]\n",
            " [ 12.4639  12.4639  80.8784   0.       0.       0.    ]\n",
            " [  0.      -0.       0.      21.764   -0.      -0.    ]\n",
            " [ -0.       0.       0.      -0.      21.764   -0.    ]\n",
            " [  0.       0.       0.      -0.      -0.      46.4475]]\n"
          ]
        }
      ],
      "source": [
        "def voigt_to_mandel(C_voigt):\n",
        "    \"\"\"\n",
        "    Convert 6x6 elastic tensor from Voigt to Mandel notation\n",
        "\n",
        "    Args:\n",
        "        C_voigt: 6x6 numpy array in Voigt notation\n",
        "    Returns:\n",
        "        C_mandel: 6x6 numpy array in Mandel notation\n",
        "    \"\"\"\n",
        "    C_mandel = C_voigt.copy()\n",
        "\n",
        "    # Scale shear components\n",
        "    # Multiply rows 4-6 by √2\n",
        "    C_mandel = C_mandel.at[3:, :].set(C_mandel[3:, :]*2**0.5)\n",
        "    # Multiply columns 4-6 by √2\n",
        "    C_mandel = C_mandel.at[:, 3:].set(C_mandel[:, 3:]*2**0.5)\n",
        "\n",
        "    return C_mandel\n",
        "\n",
        "C_exp_ref = np.array([[86.8, 7.0, 19.1,0,0,0],\n",
        "                    [7.0, 86.8, 19.1,0,0,0],\n",
        "                    [19.1, 19.1, 105.8,0,0,0],\n",
        "                    [0,0,0,58.2,0,0],\n",
        "                    [0,0,0,0,58.2,0],\n",
        "                    [0,0,0,0,0,39.9]],dtype=f64)\n",
        "\n",
        "C_exp = voigt_to_mandel(C_exp_ref)\n",
        "C_c_org = elasticity.tensor_to_mandel(C_org) * kcal_to_eV * eVA3_to_GPa\n",
        "print(converged)\n",
        "print(f\"Experimental =\\n{round(C_exp, 4)}\")\n",
        "print(f\"Original =\\n{round(C_c_org, 4)}\")"
      ]
    },
    {
      "cell_type": "code",
      "execution_count": 9,
      "metadata": {
        "colab": {
          "base_uri": "https://localhost:8080/"
        },
        "id": "RMmLB-6UdB0G",
        "outputId": "81b9da6b-cbee-4913-9bb7-b78043c1d647"
      },
      "outputs": [
        {
          "name": "stdout",
          "output_type": "stream",
          "text": [
            "Bulk modulus with E_nl (athermal) = 19.930007476600707 GPa\n",
            "Shear modulus with E_nl (athermal) = 23.77728914750916 GPa\n"
          ]
        }
      ],
      "source": [
        "print('Bulk modulus with E_nl (athermal) = {} GPa'.format(elasticity.extract_isotropic_moduli(C_org)['B'] * kcal_to_eV * eVA3_to_GPa))\n",
        "print('Shear modulus with E_nl (athermal) = {} GPa'.format(elasticity.extract_isotropic_moduli(C_org)['G'] * kcal_to_eV * eVA3_to_GPa))"
      ]
    },
    {
      "cell_type": "markdown",
      "metadata": {
        "id": "O94hp7BAO_Wn"
      },
      "source": [
        "## Objective function and optimization"
      ]
    },
    {
      "cell_type": "code",
      "execution_count": 10,
      "metadata": {
        "id": "OffoV9EmzcRl"
      },
      "outputs": [],
      "source": [
        "def setup(R, latvec, nbrs, C_target):\n",
        "  displacement, shift = space.periodic_general(latvec)\n",
        "  dist_fun = space.metric(displacement)\n",
        "  def run(params: np.array):\n",
        "    BKS_SILICA_DICT['exp_coeff'] = np.array([[0.0, params[0]],[params[0], params[1]]],dtype=f64)\n",
        "    BKS_SILICA_DICT['attractive_coeff'] = np.array([[0.0, params[2]],[params[2], params[3]]],dtype=f64)\n",
        "    neighbor_fn, energy_fn = energy.bks_silica_neighbor_list(dist_fun, box_size=latvec, species=species, dr_threshold=2.0, **BKS_SILICA_DICT)\n",
        "    emt_fn = elasticity.athermal_moduli(energy_fn, check_convergence=True)\n",
        "    C, converged = emt_fn(R, latvec, neighbor=nbrs)\n",
        "    C_c = elasticity.tensor_to_mandel(C) * kcal_to_eV * eVA3_to_GPa\n",
        "    return np.linalg.norm(C_c - C_target,ord='fro') # The Quantity to minimize\n",
        "  return run\n",
        "\n",
        "nbrs = neighbor_fn.allocate(R_final)\n",
        "run = setup(R_final, latvec, nbrs, C_target=C_exp)"
      ]
    },
    {
      "cell_type": "code",
      "execution_count": 11,
      "metadata": {
        "id": "WjrmoQDl5cBj"
      },
      "outputs": [],
      "source": [
        "# jit the function\n",
        "run_jit = jit(run)\n",
        "grad_params = jit(jacfwd(run, has_aux=False))"
      ]
    },
    {
      "cell_type": "code",
      "execution_count": 12,
      "metadata": {
        "colab": {
          "base_uri": "https://localhost:8080/"
        },
        "id": "R_daVmzV5e2h",
        "outputId": "4cbc71ee-e1bf-48ac-f9e9-94151b5a3ae8"
      },
      "outputs": [
        {
          "name": "stdout",
          "output_type": "stream",
          "text": [
            "Initial params = [471671.1243    23138.64826   -2156.074422  -1879.223108]\n"
          ]
        }
      ],
      "source": [
        "A_ij = np.array([[0, 471671.1243],[471671.1243, 23138.64826]], dtype=f64)\n",
        "C_ij = np.array([[0, -2156.074422],[-2156.074422, -1879.223108]], dtype=f64)\n",
        "params = np.array([A_ij[1,0], A_ij[1,1],\n",
        "                   C_ij[1,0], C_ij[1,1]],dtype=f64)\n",
        "print(f\"Initial params = {params}\")"
      ]
    },
    {
      "cell_type": "code",
      "execution_count": 13,
      "metadata": {
        "colab": {
          "base_uri": "https://localhost:8080/"
        },
        "id": "YFYSWBMI5gB8",
        "outputId": "ec81bd91-8ab4-4aa0-c534-4f17b6ae11aa"
      },
      "outputs": [
        {
          "name": "stdout",
          "output_type": "stream",
          "text": [
            "Function value = 158.61807599664283\n",
            "Gradients = [0.00941203 0.0283369  1.7013343  0.09710623]\n"
          ]
        }
      ],
      "source": [
        "print(f\"Function value = {run_jit(params)}\")\n",
        "print(f\"Gradients = {grad_params(params)}\")"
      ]
    },
    {
      "cell_type": "code",
      "execution_count": 14,
      "metadata": {
        "colab": {
          "base_uri": "https://localhost:8080/",
          "height": 122
        },
        "id": "sz-5d77WeLKh",
        "outputId": "d9d4ffd3-0bd0-4b86-9198-d2f436df9dc8"
      },
      "outputs": [
        {
          "data": {
            "application/vnd.google.colaboratory.intrinsic+json": {
              "type": "string"
            },
            "text/plain": [
              "\"# Print callback function\\ndef print3x(params):\\n    global Nfeval\\n    global fout\\n    fout.write('{0:4d},{1:3.12f},{2: 3.12f},{3:3.12f},{4: 3.12f},{5:3.12f},{6: 3.12f}'.format(Nfeval,\\n                                                                          params[0], params[1], params[2],\\n                                                                          params[3],\\n                                                                          run(params), np.amax(np.abs(grad_params(params)))) + '\\n')\\n    Nfeval += 1\\n\\nNfeval = 1\\nfout = open('CG_logs.dat','w')\\nfout.write('iter,A_Si_O,A_O_O,C_Si_O,C_O_O,obj_fun,grad_max \\n')\\nres = scipy_min(run, params, jac=grad_params, method='CG', callback=print3x, options={'disp': True,\\n                                                                                      'maxiter': 30,\\n                                                                                      'gtol' : 1e-30}, tol=1e-30)\\nfout.close()\\nres\""
            ]
          },
          "execution_count": 14,
          "metadata": {},
          "output_type": "execute_result"
        }
      ],
      "source": [
        "# Uncomment to run (might take time)\n",
        "'''# Print callback function\n",
        "def print3x(params):\n",
        "    global Nfeval\n",
        "    global fout\n",
        "    fout.write('{0:4d},{1:3.12f},{2: 3.12f},{3:3.12f},{4: 3.12f},{5:3.12f},{6: 3.12f}'.format(Nfeval,\n",
        "                                                                          params[0], params[1], params[2],\n",
        "                                                                          params[3],\n",
        "                                                                          run(params), np.amax(np.abs(grad_params(params)))) + '\\n')\n",
        "    Nfeval += 1\n",
        "\n",
        "Nfeval = 1\n",
        "fout = open('CG_logs.dat','w')\n",
        "fout.write('iter,A_Si_O,A_O_O,C_Si_O,C_O_O,obj_fun,grad_max \\n')\n",
        "res = scipy_min(run, params, jac=grad_params, method='CG', callback=print3x, options={'disp': True,\n",
        "                                                                                      'maxiter': 30,\n",
        "                                                                                      'gtol' : 1e-30}, tol=1e-30)\n",
        "fout.close()\n",
        "res'''"
      ]
    },
    {
      "cell_type": "markdown",
      "metadata": {
        "id": "IVDyEZhGPCmU"
      },
      "source": [
        "## Final results"
      ]
    },
    {
      "cell_type": "code",
      "execution_count": 15,
      "metadata": {
        "id": "UNzCiVr13GWR"
      },
      "outputs": [],
      "source": [
        "!wget -q https://raw.githubusercontent.com/M3RG-IITD/Force-field-optimization/refs/heads/main/SiO2_FF/CG_logs.dat\n",
        "cg_og1_1 = pd.read_csv(\"/content/CG_logs.dat\",delimiter=\",\")"
      ]
    },
    {
      "cell_type": "code",
      "execution_count": 16,
      "metadata": {
        "colab": {
          "base_uri": "https://localhost:8080/",
          "height": 607
        },
        "id": "XJni4MnL4y6N",
        "outputId": "2ba208ba-c3c0-4711-ea90-b45e2ba9366e"
      },
      "outputs": [
        {
          "data": {
            "image/png": "[encoded data removed]",
            "text/plain": [
              "<Figure size 800x600 with 3 Axes>"
            ]
          },
          "metadata": {},
          "output_type": "display_data"
        }
      ],
      "source": [
        "fig, ax1 = plt.subplots(1, 1, figsize=(8, 6),\n",
        "                        gridspec_kw={'width_ratios': [1]})\n",
        "\n",
        "ax2 = ax1.twinx()\n",
        "ax3 = ax1.twiny()\n",
        "plt.title(\"Loss for different initial conditions (CG)\",fontsize=14)\n",
        "\n",
        "ax1.plot(cg_og1_1['iter'],cg_og1_1['obj_fun'],\"-*\",label=\"BKS\")\n",
        "\n",
        "ax1.xaxis.set_minor_locator(MultipleLocator(1))\n",
        "ax1.yaxis.set_minor_locator(MultipleLocator(5))\n",
        "ax1.tick_params(axis=\"y\", direction='in', length=6, labelsize=16)\n",
        "ax1.tick_params(axis=\"x\", direction='in', length=6, labelsize=16)\n",
        "ax1.tick_params(which='minor', length=3, direction='in')\n",
        "\n",
        "ax1.set_xlabel(\"Iterations\",fontsize=18)\n",
        "ax1.set_ylabel(\"$L_{F}$\",fontsize=18)\n",
        "ax1.set_xlim(-1,15)\n",
        "ax1.set_ylim(15,150)\n",
        "\n",
        "ax2.set_ylim(15,150)\n",
        "ax2.yaxis.set_minor_locator(MultipleLocator(5))\n",
        "ax2.tick_params(axis=\"y\", direction='in', length=6)\n",
        "ax2.tick_params(which='minor', length=3, direction='in')\n",
        "ax2.set_yticklabels([])\n",
        "\n",
        "ax3.set_xlim(-1,15)\n",
        "ax3.xaxis.set_minor_locator(MultipleLocator(1))\n",
        "ax3.tick_params(axis=\"x\", direction='in', length=6)\n",
        "ax3.tick_params(which='minor', length=3, direction='in')\n",
        "ax3.set_xticklabels([])\n",
        "ax1.legend(loc='upper center', bbox_to_anchor=(0.5, -0.1),\n",
        "          fancybox=False, shadow=False, ncol=5)\n",
        "\n",
        "plt.savefig(\"loss_CG.pdf\",dpi=300, bbox_inches='tight')\n",
        "plt.tight_layout()\n",
        "plt.show()"
      ]
    },
    {
      "cell_type": "code",
      "execution_count": 17,
      "metadata": {
        "colab": {
          "base_uri": "https://localhost:8080/"
        },
        "id": "a0HMqgwy5GH1",
        "outputId": "b40759e0-6b1a-469a-fab7-57e02b0b1a0b"
      },
      "outputs": [
        {
          "name": "stdout",
          "output_type": "stream",
          "text": [
            "True\n",
            "Original =\n",
            "[[ 63.3545 -39.0365  12.4639   0.      -0.       0.    ]\n",
            " [-39.0365  63.3545  12.4639  -0.       0.       0.    ]\n",
            " [ 12.4639  12.4639  80.8784   0.       0.       0.    ]\n",
            " [  0.      -0.       0.      21.764   -0.      -0.    ]\n",
            " [ -0.       0.       0.      -0.      21.764   -0.    ]\n",
            " [  0.       0.       0.      -0.      -0.      46.4475]]\n",
            "Experimental =\n",
            "[[ 86.8   7.   19.1   0.    0.    0. ]\n",
            " [  7.   86.8  19.1   0.    0.    0. ]\n",
            " [ 19.1  19.1 105.8   0.    0.    0. ]\n",
            " [  0.    0.    0.  116.4   0.    0. ]\n",
            " [  0.    0.    0.    0.  116.4   0. ]\n",
            " [  0.    0.    0.    0.    0.   79.8]]\n",
            "Optimized =\n",
            "[[ 86.4761  -9.9265  24.2253   0.      -0.       0.    ]\n",
            " [ -9.9265  86.4761  24.2253  -0.       0.       0.    ]\n",
            " [ 24.2253  24.2253 122.1463  -0.       0.      -0.    ]\n",
            " [  0.      -0.      -0.     103.5855   0.       0.    ]\n",
            " [ -0.       0.       0.       0.     103.5855   0.    ]\n",
            " [  0.       0.      -0.       0.       0.      69.8249]]\n"
          ]
        }
      ],
      "source": [
        "\n",
        "A_Si_O = cg_og1_1['A_Si_O'].values[-1]\n",
        "A_O_O = cg_og1_1['A_O_O'].values[-1]\n",
        "\n",
        "C_Si_O = cg_og1_1['C_Si_O'].values[-1]\n",
        "C_O_O = cg_og1_1['C_O_O'].values[-1]\n",
        "\n",
        "BKS_SILICA_DICT['exp_coeff'] = np.array([[0.0, A_Si_O],[A_Si_O, A_O_O]],dtype=f64)\n",
        "BKS_SILICA_DICT['attractive_coeff'] = np.array([[0.0, C_Si_O],[C_Si_O, C_O_O]],dtype=f64)\n",
        "neighbor_fn, energy_fn = energy.bks_silica_neighbor_list(dist_fun,\n",
        "                                                         box_size=latvec,\n",
        "                                                         species=species, dr_threshold=2.0, **BKS_SILICA_DICT)\n",
        "emt_fn = elasticity.athermal_moduli(energy_fn, check_convergence=True)\n",
        "C_opt, converged = emt_fn(R_final, latvec, neighbor=nbrs_final)\n",
        "C_c_opt = elasticity.tensor_to_mandel(C_opt) * kcal_to_eV * eVA3_to_GPa\n",
        "print(converged)\n",
        "print(f\"Original =\\n{round(C_c_org, 4)}\")\n",
        "print(f\"Experimental =\\n{round(C_exp, 4)}\")\n",
        "print(f\"Optimized =\\n{round(C_c_opt, 4)}\")"
      ]
    },
    {
      "cell_type": "code",
      "execution_count": 18,
      "metadata": {
        "colab": {
          "base_uri": "https://localhost:8080/"
        },
        "id": "Olb9Rbie5w64",
        "outputId": "a453fef6-ea43-487a-a9bc-d4204d71171b"
      },
      "outputs": [
        {
          "name": "stdout",
          "output_type": "stream",
          "text": [
            "Bulk modulus with E_nl (athermal) = 41.34961524145465 GPa\n",
            "Shear modulus with E_nl (athermal) = 44.80455107031862 GPa\n"
          ]
        }
      ],
      "source": [
        "print('Bulk modulus with E_nl (athermal) = {} GPa'.format(elasticity.extract_isotropic_moduli(C_opt)['B'] * kcal_to_eV * eVA3_to_GPa))\n",
        "print('Shear modulus with E_nl (athermal) = {} GPa'.format(elasticity.extract_isotropic_moduli(C_opt)['G'] * kcal_to_eV * eVA3_to_GPa))"
      ]
    },
    {
      "cell_type": "code",
      "execution_count": 19,
      "metadata": {
        "colab": {
          "base_uri": "https://localhost:8080/"
        },
        "id": "o1_sXbFmP7MH",
        "outputId": "f999e840-919e-4d05-85a2-f8df4841ff00"
      },
      "outputs": [
        {
          "name": "stdout",
          "output_type": "stream",
          "text": [
            "Final A_ij = \n",
            "[[     0.         470198.42575813]\n",
            " [470198.42575813  42338.96950494]]\n",
            "Final C_ij = \n",
            "[[    0.        -2757.3276161]\n",
            " [-2757.3276161 -6797.3189433]]\n"
          ]
        }
      ],
      "source": [
        "print(f\"Final A_ij = \\n{BKS_SILICA_DICT['exp_coeff']}\")\n",
        "print(f\"Final C_ij = \\n{BKS_SILICA_DICT['attractive_coeff']}\")"
      ]
    }
  ],
  "metadata": {
    "accelerator": "GPU",
    "colab": {
      "gpuType": "A100",
      "machine_shape": "hm",
      "provenance": []
    },
    "kernelspec": {
      "display_name": "Python 3",
      "name": "python3"
    },
    "language_info": {
      "name": "python"
    }
  },
  "nbformat": 4,
  "nbformat_minor": 0
}
